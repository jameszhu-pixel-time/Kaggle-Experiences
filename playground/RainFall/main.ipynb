{
 "cells": [
  {
   "cell_type": "code",
   "execution_count": 5,
   "metadata": {},
   "outputs": [
    {
     "name": "stdout",
     "output_type": "stream",
     "text": [
      "Traceback (most recent call last):\n",
      "  File \"/Users/zhurui/anaconda3/bin/kaggle\", line 5, in <module>\n",
      "    from kaggle.cli import main\n",
      "  File \"/Users/zhurui/anaconda3/lib/python3.11/site-packages/kaggle/__init__.py\", line 7, in <module>\n",
      "    api.authenticate()\n",
      "  File \"/Users/zhurui/anaconda3/lib/python3.11/site-packages/kaggle/api/kaggle_api_extended.py\", line 407, in authenticate\n",
      "    raise IOError('Could not find {}. Make sure it\\'s located in'\n",
      "OSError: Could not find kaggle.json. Make sure it's located in /Users/zhurui/.kaggle. Or use the environment method. See setup instructions at https://github.com/Kaggle/kaggle-api/\n"
     ]
    }
   ],
   "source": [
    "!kaggle competitions download -c playground-series-s5e3"
   ]
  },
  {
   "cell_type": "code",
   "execution_count": 13,
   "metadata": {},
   "outputs": [],
   "source": [
    "import os\n",
    "import sklearn\n",
    "import torch\n",
    "from torch.utils.data import Dataset,DataLoader\n",
    "import torch.nn as nn\n",
    "import pandas as pd\n",
    "import torch.functional as F"
   ]
  },
  {
   "cell_type": "code",
   "execution_count": 20,
   "metadata": {},
   "outputs": [
    {
     "name": "stdout",
     "output_type": "stream",
     "text": [
      "<class 'pandas.core.frame.DataFrame'>\n",
      "RangeIndex: 2190 entries, 0 to 2189\n",
      "Data columns (total 13 columns):\n",
      " #   Column         Non-Null Count  Dtype  \n",
      "---  ------         --------------  -----  \n",
      " 0   id             2190 non-null   int64  \n",
      " 1   day            2190 non-null   int64  \n",
      " 2   pressure       2190 non-null   float64\n",
      " 3   maxtemp        2190 non-null   float64\n",
      " 4   temparature    2190 non-null   float64\n",
      " 5   mintemp        2190 non-null   float64\n",
      " 6   dewpoint       2190 non-null   float64\n",
      " 7   humidity       2190 non-null   float64\n",
      " 8   cloud          2190 non-null   float64\n",
      " 9   sunshine       2190 non-null   float64\n",
      " 10  winddirection  2190 non-null   float64\n",
      " 11  windspeed      2190 non-null   float64\n",
      " 12  rainfall       2190 non-null   int64  \n",
      "dtypes: float64(10), int64(3)\n",
      "memory usage: 222.6 KB\n",
      "None\n",
      "<class 'pandas.core.frame.DataFrame'>\n",
      "RangeIndex: 730 entries, 0 to 729\n",
      "Data columns (total 12 columns):\n",
      " #   Column         Non-Null Count  Dtype  \n",
      "---  ------         --------------  -----  \n",
      " 0   id             730 non-null    int64  \n",
      " 1   day            730 non-null    int64  \n",
      " 2   pressure       730 non-null    float64\n",
      " 3   maxtemp        730 non-null    float64\n",
      " 4   temparature    730 non-null    float64\n",
      " 5   mintemp        730 non-null    float64\n",
      " 6   dewpoint       730 non-null    float64\n",
      " 7   humidity       730 non-null    float64\n",
      " 8   cloud          730 non-null    float64\n",
      " 9   sunshine       730 non-null    float64\n",
      " 10  winddirection  729 non-null    float64\n",
      " 11  windspeed      730 non-null    float64\n",
      "dtypes: float64(10), int64(2)\n",
      "memory usage: 68.6 KB\n",
      "None\n",
      "        id  day  pressure  maxtemp  temparature  mintemp  dewpoint  humidity  \\\n",
      "98      98   99    1015.2     25.9         23.4     22.8      21.2      81.0   \n",
      "612    612  248    1005.7     31.2         29.1     27.0      25.1      84.0   \n",
      "1776  1776  317    1015.1     27.5         23.7     22.2      21.3      91.0   \n",
      "553    553  189    1008.5     32.8         29.2     26.4      25.4      84.0   \n",
      "1546  1546   87    1014.9     27.3         25.9     23.1      21.4      92.0   \n",
      "\n",
      "      cloud  sunshine  winddirection  windspeed  rainfall  \n",
      "98     81.0       3.9          290.0       21.2         1  \n",
      "612    77.0       3.9          220.0       26.3         1  \n",
      "1776   93.0       5.9           70.0       22.5         1  \n",
      "553    83.0       8.1          230.0       15.4         0  \n",
      "1546   90.0       4.4           80.0       30.3         1  \n"
     ]
    }
   ],
   "source": [
    "## normalize\n",
    "train_file='/Users/zhurui/Desktop/2024-2025-2/self_study/kaggles/playground/RainFall/playground-series-s5e3/train.csv'\n",
    "test_file='/Users/zhurui/Desktop/2024-2025-2/self_study/kaggles/playground/RainFall/playground-series-s5e3/test.csv'\n",
    "train_raw=pd.read_csv(train_file)\n",
    "test_raw=pd.read_csv(test_file)\n",
    "print(train_raw.info())\n",
    "print(test_raw.info())\n",
    "print(train_raw.sample(5))"
   ]
  },
  {
   "cell_type": "markdown",
   "metadata": {},
   "source": [
    "### Feature Engineering and Statistic Analysis"
   ]
  },
  {
   "cell_type": "code",
   "execution_count": null,
   "metadata": {},
   "outputs": [],
   "source": [
    "## data hisogram"
   ]
  },
  {
   "cell_type": "code",
   "execution_count": null,
   "metadata": {},
   "outputs": [],
   "source": [
    "class Class_net(nn.Module):\n",
    "    def __init__(self,in_dim,out_dim=2):\n",
    "        super().__init__\n",
    "        self.in_dim=in_dim\n",
    "        self.out_dim=out_dim\n",
    "        self.layer=nn.Sequential(\n",
    "            nn.Linear(self.in_dim,128)\n",
    "            nn.ReLU()\n",
    "            nn.Linear(128,32)\n",
    "            nn.ReLU()\n",
    "            nn.Linear(32,self.out_dim)\n",
    "            nn.ReLU()\n",
    "        )\n",
    "    def forward(self,x):\n",
    "        x=self.layer(x)\n",
    "        logits=F.softmax(x)\n",
    "        return logits"
   ]
  }
 ],
 "metadata": {
  "kernelspec": {
   "display_name": "base",
   "language": "python",
   "name": "python3"
  },
  "language_info": {
   "codemirror_mode": {
    "name": "ipython",
    "version": 3
   },
   "file_extension": ".py",
   "mimetype": "text/x-python",
   "name": "python",
   "nbconvert_exporter": "python",
   "pygments_lexer": "ipython3",
   "version": "3.11.5"
  },
  "orig_nbformat": 4
 },
 "nbformat": 4,
 "nbformat_minor": 2
}
